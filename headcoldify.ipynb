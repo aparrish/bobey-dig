{
 "cells": [
  {
   "cell_type": "markdown",
   "metadata": {},
   "source": [
    "# Bobey Dig\n",
    "\n",
    "By [Allison Parrish](http://www.decontextualize.com/) for [NaNoGenMo 2019](https://github.com/NaNoGenMo/2019)\n",
    "\n",
    "Another NaNoGenMo entry: *Moby Dick* rewritten with [Pincelate](https://github.com/aparrish/pincelate/) so that it sounds like the narrator has a head cold.\n",
    "\n",
    "How it's done:"
   ]
  },
  {
   "cell_type": "code",
   "execution_count": 1,
   "metadata": {},
   "outputs": [],
   "source": [
    "import re"
   ]
  },
  {
   "cell_type": "markdown",
   "metadata": {},
   "source": [
    "I'm using `pronouncing` to check for known words with known pronunciations and `pincelate` to respell."
   ]
  },
  {
   "cell_type": "code",
   "execution_count": 2,
   "metadata": {},
   "outputs": [
    {
     "name": "stderr",
     "output_type": "stream",
     "text": [
      "Using TensorFlow backend.\n"
     ]
    }
   ],
   "source": [
    "from pincelate import Pincelate\n",
    "import pronouncing as pr"
   ]
  },
  {
   "cell_type": "code",
   "execution_count": 3,
   "metadata": {},
   "outputs": [],
   "source": [
    "pin = Pincelate()"
   ]
  },
  {
   "cell_type": "markdown",
   "metadata": {},
   "source": [
    "The `headcold` function uses Pincelate's `.manipulate()` method to change the probabilities of certain phonetic features occurring in the sounded-out text, then respells the word from the resulting manipulation. In this case, I'm eliminating nasal features, slightly turning down fricatives and voicelessness, and boosting stops and voicing and the probability of the end of the word occurring. The intuition here is that when you have a cold, your nose is stuffy, so consonants that are normally nasal will turn out as the voiced stop at that same point of articulation (e.g., `/m/` becomes `/b/`). Sustained fricatives, especially those requiring high air flow, are also less likely owing to the reduced general capacity of the pulmonary system when inflamed. I found the values for the `features` parameter through trial and error; they seem to work okay."
   ]
  },
  {
   "cell_type": "code",
   "execution_count": 4,
   "metadata": {},
   "outputs": [],
   "source": [
    "def headcold(s):\n",
    "    return pin.manipulate(\n",
    "        s,\n",
    "        features={\n",
    "            'nas': 500,\n",
    "            'stp': -2.3,\n",
    "            'frc': 2.5,\n",
    "            'vcd': -2.8,\n",
    "            'vls': 10,\n",
    "            'end': -1.7},\n",
    "        temperature=0.15)"
   ]
  },
  {
   "cell_type": "markdown",
   "metadata": {},
   "source": [
    "The `rewrite` function takes a string and looks it up with `pronouncing`; if it's not in the dictionary, or if it *is* in the dictionary and contains certain target sounds, it returns the headcold version; otherwise, it returns the original string. The point here is to leave unchanged any words that shouldn't have their spelling changed by the `headcold` function."
   ]
  },
  {
   "cell_type": "code",
   "execution_count": 5,
   "metadata": {},
   "outputs": [
    {
     "data": {
      "text/plain": [
       "['bobey',\n",
       " 'dig',\n",
       " 'gall',\n",
       " 'be',\n",
       " 'ishbell',\n",
       " 'I',\n",
       " 'aigh',\n",
       " 'bied',\n",
       " 'owed',\n",
       " 'goeld',\n",
       " 'curgulatione',\n",
       " 'thag',\n",
       " 'you',\n",
       " 'veighe',\n",
       " 'bud']"
      ]
     },
     "execution_count": 5,
     "metadata": {},
     "output_type": "execute_result"
    }
   ],
   "source": [
    "def rewrite(s):\n",
    "    phones = pr.phones_for_word(s)\n",
    "    if len(phones) == 0 or re.search(r\"[MNVZKPT]\", phones[0]):\n",
    "        return headcold(s)\n",
    "    else:\n",
    "        return s\n",
    "[rewrite(w) for w in \"moby dick call me ishmael I am my own cold circulation thank you very much\".split()]"
   ]
  },
  {
   "cell_type": "markdown",
   "metadata": {},
   "source": [
    "I need everything in lowercase for `pincelate` and `pronouncing` to work, but I want the replaced words to maintain their original case. This function takes a parameter `s` and matches it to the \"case pattern\" of string `t`. I'll use it below to transform the modified strings returned from `.modify()` to match the case of the word they were transforming."
   ]
  },
  {
   "cell_type": "code",
   "execution_count": 6,
   "metadata": {
    "scrolled": true
   },
   "outputs": [
    {
     "name": "stdout",
     "output_type": "stream",
     "text": [
      "Hello\n",
      "Hello there\n",
      "Hello\n",
      "HELLO\n"
     ]
    }
   ],
   "source": [
    "def matchcase(s, t):\n",
    "    t = t + (t[-1] * max(0, len(s) - len(t)))\n",
    "    return ''.join([ch1.upper() if ch2.isupper() else ch1 for ch1, ch2 in zip(s, t)])\n",
    "print(matchcase(\"hello\", \"Hello\"))\n",
    "print(matchcase(\"hello there\", \"Hello\"))\n",
    "print(matchcase(\"hello\", \"Hell\"))\n",
    "print(matchcase(\"hello\", \"HELL\"))"
   ]
  },
  {
   "cell_type": "markdown",
   "metadata": {},
   "source": [
    "Finally, the callback for `re.sub` matches the case of the rewrite of the matched group:"
   ]
  },
  {
   "cell_type": "code",
   "execution_count": 7,
   "metadata": {},
   "outputs": [],
   "source": [
    "def replace(match):\n",
    "    return matchcase(rewrite(match.group().lower()), match.group())"
   ]
  },
  {
   "cell_type": "markdown",
   "metadata": {},
   "source": [
    "And now put it all together, performing the replacement on every line of *Moby Dick*. This might take a while! (Make sure you've [downloaded a copy first](https://www.gutenberg.org/ebooks/2489) and put the text file in the same directory as this notebook.)"
   ]
  },
  {
   "cell_type": "code",
   "execution_count": 8,
   "metadata": {},
   "outputs": [
    {
     "name": "stdout",
     "output_type": "stream",
     "text": [
      "0\n",
      "1000\n",
      "2000\n",
      "3000\n",
      "4000\n",
      "5000\n",
      "6000\n",
      "7000\n",
      "8000\n",
      "9000\n",
      "10000\n",
      "11000\n",
      "12000\n",
      "13000\n",
      "14000\n",
      "15000\n",
      "16000\n",
      "17000\n",
      "18000\n",
      "19000\n",
      "20000\n",
      "21000\n",
      "22000\n",
      "23000\n"
     ]
    }
   ],
   "source": [
    "orig = []\n",
    "out = []\n",
    "for i, line in enumerate(open(\"./pg2489.txt\")):\n",
    "    if i % 1000 == 0:\n",
    "        print(i)\n",
    "    line = line.strip()\n",
    "    transformed = re.sub(r\"\\b[A-Za-z\\']+\\b\", replace, line)\n",
    "    out.append(transformed)\n",
    "    orig.append(line)"
   ]
  },
  {
   "cell_type": "markdown",
   "metadata": {},
   "source": [
    "Let's preview:"
   ]
  },
  {
   "cell_type": "code",
   "execution_count": 9,
   "metadata": {},
   "outputs": [
    {
     "data": {
      "text/plain": [
       "['\\ufeff',\n",
       " 'BOBEY DIG;',\n",
       " 'OR THE WHALE',\n",
       " '',\n",
       " 'by Herbes Belville',\n",
       " '',\n",
       " '',\n",
       " '',\n",
       " '',\n",
       " 'CHABTER 1',\n",
       " '',\n",
       " 'Lubiz',\n",
       " '',\n",
       " '',\n",
       " '',\n",
       " 'Gall beigh Ishbell.  Sub years ago--dever bied how laugh prejised--',\n",
       " 'havig lidtle or doed buhdie id bied purs, ad tothig baudigular',\n",
       " 'doed indered be ohd shore, I thoughed I would sail abough a lidtle',\n",
       " 'ad see the wadrey bard ove the world.  Id eighed a way I haved',\n",
       " 'ohd drivig off the spleed ad regulating the curgulatione.',\n",
       " 'Whender I fied bizlev groig grib abowed the bouthe;',\n",
       " 'whender id eighed a dab, dridge Voveber id bied soul; whender I',\n",
       " 'fied bizelve ivludersed bosge before covied werghouses,',\n",
       " 'ad brigg ub the rear ohd every vuderle I beed;',\n",
       " 'ad aescheabley whender bied highboeds ged such ad upper hadd ohd be,']"
      ]
     },
     "execution_count": 9,
     "metadata": {},
     "output_type": "execute_result"
    }
   ],
   "source": [
    "out[:25]"
   ]
  },
  {
   "cell_type": "markdown",
   "metadata": {},
   "source": [
    "Looks good. I'm going to make two versions: the first with just the output, the second with paired lines for comparison."
   ]
  },
  {
   "cell_type": "code",
   "execution_count": 10,
   "metadata": {},
   "outputs": [],
   "source": [
    "with open(\"bobey-dig.txt\", \"w\") as fh:\n",
    "    fh.write(\"\\n\".join(out))"
   ]
  },
  {
   "cell_type": "code",
   "execution_count": 11,
   "metadata": {},
   "outputs": [],
   "source": [
    "with open(\"bobey-dig-annotated.txt\", \"w\") as fh:\n",
    "    for orig_line, out_line in zip(orig, out):\n",
    "        fh.write(orig_line + \"\\n\" + out_line + \"\\n\\n\")"
   ]
  }
 ],
 "metadata": {
  "kernelspec": {
   "display_name": "Python 3",
   "language": "python",
   "name": "python3"
  },
  "language_info": {
   "codemirror_mode": {
    "name": "ipython",
    "version": 3
   },
   "file_extension": ".py",
   "mimetype": "text/x-python",
   "name": "python",
   "nbconvert_exporter": "python",
   "pygments_lexer": "ipython3",
   "version": "3.6.8"
  }
 },
 "nbformat": 4,
 "nbformat_minor": 2
}
